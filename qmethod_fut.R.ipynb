{
  "nbformat": 4,
  "nbformat_minor": 0,
  "metadata": {
    "colab": {
      "name": "Qmethod_redu_fut.ipynb",
      "private_outputs": true,
      "provenance": [],
      "collapsed_sections": [],
      "include_colab_link": true
    },
    "kernelspec": {
      "name": "ir",
      "display_name": "R"
    },
    "language_info": {
      "name": "R"
    }
  },
  "cells": [
    {
      "cell_type": "markdown",
      "metadata": {
        "id": "view-in-github",
        "colab_type": "text"
      },
      "source": [
        "<a href=\"https://colab.research.google.com/github/temporalista/qmethod_fut/blob/main/qmethod_fut.R.ipynb\" target=\"_parent\"><img src=\"https://colab.research.google.com/assets/colab-badge.svg\" alt=\"Open In Colab\"/></a>"
      ]
    },
    {
      "cell_type": "markdown",
      "metadata": {
        "id": "PfqMWtWPEUMm"
      },
      "source": [
        "# Método Q: Forma Urbana y Transporte\n",
        "\n",
        "Análisis de percepciones de la relación entre forma urbana y transporte utilizando el Método Q. Parte del proyecto REDU-FUT.\n",
        "\n",
        "\n",
        "Grupo de Investigación LlactaLAB - Ciudades Sustentables. Universidad de Cuenca. http:://llactalab.ucuenca.edu.ec\n",
        "\n",
        "Cómo citar:\n",
        "\n",
        "> Orellana, D., Hermida C., Hermida, M.A. (2020). ¿Cerca o lejos? Discursos y subjetividad en las relaciones entre el lugar de residencia y la movilidad. Revista EURE (En Prensa)\n",
        "\n",
        "\n",
        "\n",
        "\n"
      ]
    },
    {
      "cell_type": "code",
      "metadata": {
        "id": "z1MbhORGVyPg"
      },
      "source": [
        "install.packages(c(\"qmethod\"))\n"
      ],
      "execution_count": null,
      "outputs": []
    },
    {
      "cell_type": "code",
      "metadata": {
        "id": "fmmpLYYHYcXC"
      },
      "source": [
        "library(httr)\n",
        "library(qmethod)\n",
        "library(dplyr)\n",
        "source(\"https://raw.githubusercontent.com/temporalista/qmethod_fut/main/my_qmb_plot.R\")"
      ],
      "execution_count": null,
      "outputs": []
    },
    {
      "cell_type": "markdown",
      "metadata": {
        "id": "MipxqKv4WI6m"
      },
      "source": [
        "# Datos\n",
        "\n",
        "Los datos anaonimizados se encuentran públicos en el repositorio de GitHub"
      ]
    },
    {
      "cell_type": "code",
      "metadata": {
        "id": "5BA-Yb-XIKjQ",
        "collapsed": true
      },
      "source": [
        "# Datos\n",
        "\n",
        "github_link <- \"https://github.com/temporalista/qmethod_fut/raw/main/inputs/redu_fut_metodoq_public.xlsx\"\n",
        "library(httr)\n",
        "temp_file <- tempfile(fileext = \".xlsx\")\n",
        "req <- GET(github_link, \n",
        "          # authenticate using GITHUB_PAT\n",
        "          # authenticate(Sys.getenv(\"GITHUB_PAT\"), \"\"),\n",
        "          # write result to disk\n",
        "           write_disk(path = temp_file))\n",
        "\n",
        "qstatements <- as.data.frame(readxl::read_excel(temp_file,sheet = \"1 Qset\"))\n",
        "qparticip <- as.data.frame(readxl::read_excel(temp_file, sheet = \"2 Qparticipantes\"))\n",
        "qsort <- as.data.frame(readxl::read_excel(temp_file, sheet = \"3 Qsort\"))\n",
        "\n",
        "qstatements\n",
        "\n",
        "qparticip\n",
        "\n",
        "qsort\n",
        "\n"
      ],
      "execution_count": null,
      "outputs": []
    },
    {
      "cell_type": "code",
      "metadata": {
        "id": "lX4dne-RXdWW"
      },
      "source": [
        "\n",
        "#Name rows and remove first column\n",
        "rownames(qsort) <- qsort[,1]\n",
        "qsort <- qsort[,-1]"
      ],
      "execution_count": null,
      "outputs": []
    },
    {
      "cell_type": "markdown",
      "metadata": {
        "id": "heSWvRsgi7O3"
      },
      "source": [
        "# Método Q Clásico\n",
        "\n"
      ]
    },
    {
      "cell_type": "code",
      "metadata": {
        "id": "EptTngX0WdsB"
      },
      "source": [
        "\n",
        "\n",
        "###\n",
        "### Run Q method --------\n",
        "###\n",
        "\n",
        "\n",
        "##Screeplot to check the variances\n",
        "qsort.pca <- prcomp(qsort)\n",
        "screeplot(qsort.pca, \n",
        "          main = \"Gráfico de sedimentación\", \n",
        "          type = \"lines\")\n",
        "\n",
        "# get_eig(qsort.pca)\n",
        "\n",
        "par(mar = c(15, 5, 5, 5))\n",
        "\n",
        "# fviz_eig(qsort.pca, addlabels=TRUE, hjust = -0.1,\n",
        "#          choice = c(\"variance\"),\n",
        "#          main = \"\",\n",
        "#          ylab=\"Varianza Explicada (%)\",\n",
        "#          xlab=\"Factor\",\n",
        "#          barfill = \"gray\",\n",
        "#          barcolor = \"gray\"\n",
        "# )\n",
        "\n",
        "\n",
        "qresults5 <- qmethod(qsort, \n",
        "                     nfactors = 5, \n",
        "                     rotation = 'varimax',\n",
        "                     forced = T,\n",
        "                     cor.method = \"pearson\")\n",
        "\n",
        "qresults4 <- qmethod(qsort, \n",
        "                     nfactors = 4, \n",
        "                     rotation = 'varimax',\n",
        "                     forced = T,\n",
        "                     cor.method = \"pearson\")\n",
        "\n",
        "qresults3 <- qmethod(qsort, \n",
        "                     nfactors = 3, \n",
        "                     rotation = 'varimax',\n",
        "                     forced = T,\n",
        "                     cor.method = \"pearson\")\n",
        "\n",
        "qresults2 <- qmethod(qsort, \n",
        "                     nfactors = 2, \n",
        "                     rotation = 'varimax',\n",
        "                     forced = T,\n",
        "                     cor.method = \"pearson\")\n",
        "\n",
        "\n",
        "q5.sum <- summary(qresults5)\n",
        "q4.sum <- summary(qresults4)\n",
        "q3.sum <- summary(qresults3)\n",
        "q2.sum <- summary(qresults2)\n",
        "\n"
      ],
      "execution_count": null,
      "outputs": []
    },
    {
      "cell_type": "markdown",
      "metadata": {
        "id": "76w5YqCgi_Hx"
      },
      "source": [
        "### Características de los factores"
      ]
    },
    {
      "cell_type": "code",
      "metadata": {
        "id": "MFXb0wcaWsMB"
      },
      "source": [
        "\n",
        "##Characteristics of the factors: \n",
        "##av_rel_coef: Average reliability coefficient\n",
        "##nload: number of loading Qsorts\n",
        "##Eigenvalues\n",
        "##expl_var: percentage of explained variance\n",
        "##composite reliability\n",
        "##Sandard error of factor scores\n",
        "\n",
        "qresults4$f_char$characteristics\n",
        "qresults3$f_char$characteristics\n",
        "qresults2$f_char$characteristics\n",
        "\n",
        "\n",
        "#decide number of factors\n",
        "nf=3\n",
        "qresults <- qresults3\n",
        "\n",
        "###plotting a diagram of z-scores for each statement\n",
        "par(lwd = 1.5, mar = c(4, 4, 1, 1) + 0.1)\n",
        "\n",
        "plot(qresults, \n",
        "     xlab = 'z-scores', \n",
        "     ylab = 'Declaraciones', \n",
        "     pchlist = NULL, \n",
        "     colours = c(\"red\",\"green\",\"blue\"), \n",
        "     fnames = NULL, \n",
        "     legend = TRUE,\n",
        "     dist = TRUE, \n",
        "     pchlist.fill = NULL,\n",
        "     leg.pos=\"bottomright\", \n",
        "     xlim= NULL, \n",
        "     sort.items=T, \n",
        "     factors = NULL)\n",
        "\n",
        "abline(v=0, col='grey')\n",
        "\n"
      ],
      "execution_count": null,
      "outputs": []
    },
    {
      "cell_type": "markdown",
      "metadata": {
        "id": "Oof7EWkWjDlD"
      },
      "source": [
        "### Resultados"
      ]
    },
    {
      "cell_type": "code",
      "metadata": {
        "id": "KLesRXKJW3H2"
      },
      "source": [
        "#### Merge and explore factor results ---- \n",
        "my.qresults <- cbind(round(qresults$zsc, digits=2), qresults$zsc_n)\n",
        "nfactors <- ncol(qresults$zsc)\n",
        "# col.order <- as.vector(rbind(1:nfactors, (1:nfactors)+nfactors))\n",
        "# my.qresults <- my.qresults[col.order]\n",
        "my.qresults$sta_id<- rownames(my.qresults)\n",
        "\n",
        "# merge original statements\n",
        "my.qresults <- merge(qstatements[,1:2],my.qresults, by=\"sta_id\")\n",
        "\n",
        "#merge distinguish and concensus\n",
        "qresults$qdc$sta_id<- rownames(qresults$qdc)\n",
        "my.qresults <- merge(my.qresults,qresults$qdc, by=\"sta_id\")\n",
        "my.qresults <- my.qresults %>% rename(dist_cons=dist.and.cons)\n",
        "\n",
        "str(my.qresults)\n",
        "\n"
      ],
      "execution_count": null,
      "outputs": []
    },
    {
      "cell_type": "markdown",
      "metadata": {
        "id": "pjXEO0FTjGQ-"
      },
      "source": [
        "### Explorar concensos y diferencias"
      ]
    },
    {
      "cell_type": "code",
      "metadata": {
        "id": "5Yz5UpMmW_Cn"
      },
      "source": [
        "\n",
        "#### Explore the table of distinguishing and consensus statements\n",
        "\n",
        "\n",
        "# Consensus statements\n",
        "my.qresults[which(my.qresults$dist_cons == \"Consensus\"), ]\n",
        "\n",
        "# Statements distinguishing all factors\n",
        "my.qresults[which(my.qresults$dist_cons == \"Distinguishes all\"), ]\n",
        "\n",
        "# Statements distinguishing each factor (for results of > 2 factors)\n",
        "my.qresults[which(my.qresults$dist_cons == \"Distinguishes f1 only\"), ]\n",
        "my.qresults[which(my.qresults$dist_cons == \"Distinguishes f2 only\"), ]\n",
        "my.qresults[which(my.qresults$dist_cons == \"Distinguishes f3 only\"), ]\n",
        "\n"
      ],
      "execution_count": null,
      "outputs": []
    },
    {
      "cell_type": "markdown",
      "metadata": {
        "id": "UASJYFfSjLvr"
      },
      "source": [
        "### Cargas y participantes"
      ]
    },
    {
      "cell_type": "code",
      "metadata": {
        "id": "QD8GOQAtXFbW"
      },
      "source": [
        "\n",
        "### Loadings and flags ----\n",
        "###Sorts are flagged (*) if they have a significant load (p<0.05) and the\n",
        "###squared loading is larger than the sum of squared diffs\n",
        "\n",
        "my.lof <-loa.and.flags(qresults)\n",
        "my.lof$p_code <- rownames(my.lof)\n",
        "\n",
        "my.lof <- merge(my.lof, qparticip, by=\"p_code\")\n",
        "\n",
        "(my.lof)\n",
        "\n",
        "###export all results if needed\n",
        "# export.qm(qresults, file = paste(\"outputs/qreport_\",nf,\"f.txt\", sep=\"\"), style = \"R\")\n",
        "# write.csv(my.qresults, file = paste(\"outputs/qresults_\",nf,\"f.csv\", sep=\"\"))\n",
        "# write.csv(my.lof, file = paste(\"outputs/loadsandflags_\",nf,\"f.csv\", sep=\"\"), row.names=FALSE)\n"
      ],
      "execution_count": null,
      "outputs": []
    },
    {
      "cell_type": "markdown",
      "metadata": {
        "id": "l1WHQh9ojWrW"
      },
      "source": [
        "# Bootstrap"
      ]
    },
    {
      "cell_type": "code",
      "metadata": {
        "id": "4ewqyra3XKFX"
      },
      "source": [
        "\n",
        "\n",
        "# --------------\n",
        "# Bootstrapping ----\n",
        "#\n",
        "qb3 <- qmboots(qsort,\n",
        "               nfactors = nf,\n",
        "               nsteps=2000,\n",
        "               load = \"auto\",\n",
        "               rotation = \"varimax\",\n",
        "               indet = \"qindtest\",\n",
        "               fsi = TRUE,\n",
        "               forced = T,\n",
        "               distribution = NULL,\n",
        "               cor.method=\"pearson\")\n",
        "\n",
        "# save(qb3, file = paste(\"outputs/qbstrp_results_\",nf,\"f.RData\", sep = \"\"))\n",
        "# load(\"outputs/qbstrp_results_ 3f.RData\")\n"
      ],
      "execution_count": null,
      "outputs": []
    },
    {
      "cell_type": "code",
      "metadata": {
        "id": "GB024y3qh5Mq"
      },
      "source": [
        "nfactors=3\n",
        "\n",
        "qmb.sum <- qmb.summary(qb3)\n",
        "qmb.sum$statements$sta_id<- rownames(qmb.sum$statements)\n",
        "qmb.sum$statements <- merge(qmb.sum$statements,qstatements[,1:2], by=\"sta_id\")\n",
        "qmb_stat <- qmb.sum$statements\n",
        "qb3$orig.res$qdc$sta_id<- rownames(qb3$orig.res$qdc)\n",
        "qmb_stat <-cbind(qmb_stat, dst_cons=qb3$orig.res$qdc[,(1)])\n",
        "\n",
        "qmb_part <- qmb.sum$qsorts\n",
        "qmb_part$p_code <- rownames(qmb_part)\n",
        "\n",
        "qmb_part\n",
        "\n",
        "qmb_stat\n",
        "\n"
      ],
      "execution_count": null,
      "outputs": []
    },
    {
      "cell_type": "markdown",
      "metadata": {
        "id": "LXuF9IJLjcLy"
      },
      "source": [
        "### Gráfico"
      ]
    },
    {
      "cell_type": "code",
      "metadata": {
        "id": "6QDhgyxYawHR"
      },
      "source": [
        "\n",
        "\n",
        "my.qmb.plot(qmbsum=qmb.sum,\n",
        "            type = \"zsc\",\n",
        "            nfactors=3,\n",
        "            cex = 0.6,\n",
        "            cex.leg = 1,\n",
        "            errbar.col = rgb(0.4,0.4,0.4),\n",
        "            errbar.lwd = 0.5,\n",
        "            errbar.lty = \"solid\",\n",
        "            leg.pos = \"bottomleft\",\n",
        "            sort=\"difference\",\n",
        "            plot.std=F,\n",
        "            plot.mark=T,\n",
        "            ylabels=paste(qmb.sum$statements$sta_id, qmb.sum$statements$Declaracion),\n",
        "            vertdist = 0.23,\n",
        "            xlab= \"Puntajes Z\",\n",
        "            ylab=\"\",\n",
        "            col=c(\"black\",\"black\",\"black\"),\n",
        "            pch=c(21,22,24,23),\n",
        "            limits = c(-2.4,2.4),\n",
        ")\n",
        "\n",
        "\n",
        "my.qmb.plot(qmbsum=qmb.sum,\n",
        "            type = \"loa\", \n",
        "            # main=\"Puntajes Z de las declaraciones\",\n",
        "            nfactors=3,\n",
        "            cex = 0.6,\n",
        "            cex.leg = 0.9,\n",
        "            errbar.col = rgb(0.4,0.4,0.4), \n",
        "            errbar.lwd = 0.5, \n",
        "            errbar.lty = \"solid\",\n",
        "            leg.pos = \"bottomleft\",\n",
        "            sort=\"difference\",\n",
        "            limits = c(-0.5,1),\n",
        "            plot.std=F,\n",
        "            plot.mark=T,\n",
        "            vertdist = 0.23,\n",
        "            # limits = c(-2.4, 2.5),\n",
        "            xlab= \"Puntajes Z\",\n",
        "            ylab=\"Participantes\",\n",
        "            col=c(\"black\",\"black\",\"black\"),\n",
        "            # col.lab=\"black\",\n",
        "            pch=c(21,22,24,23)\n",
        "            # pt.cex=c(0.8,0.8,0.8)\n",
        ")\n",
        "\n"
      ],
      "execution_count": null,
      "outputs": []
    },
    {
      "cell_type": "markdown",
      "metadata": {
        "id": "BS5Hmw8Cjfwc"
      },
      "source": [
        "### Resultados en Z scores"
      ]
    },
    {
      "cell_type": "code",
      "metadata": {
        "id": "8t3y7Rz0iRtV"
      },
      "source": [
        "\n",
        "qmb_part$m1 <- (qmb_part$flag.freq1 >0.75)\n",
        "qmb_part$m2 <- (qmb_part$flag.freq2 >0.75)\n",
        "qmb_part$m3 <- (qmb_part$flag.freq3 >0.75)\n",
        "qmb_part$mq <- qmb_part$m1 + qmb_part$m2 + qmb_part$m3\n",
        "\n",
        "table(qmb_part$mq)\n",
        "\n",
        "qb3$fsi\n",
        "qb3$`zscore-stats`$`Bootstraped factor scores`\n",
        "qb3f1 <- qb3$`zscore-stats`$factor1[,c(\"mean\", \"sd\")] \n",
        "qb3f2 <- qb3$`zscore-stats`$factor2[,c(\"mean\", \"sd\")]\n",
        "qb3f3 <- qb3$`zscore-stats`$factor3[,c(\"mean\", \"sd\")]\n",
        "\n",
        "qb3_fscores <- merge(qb3$`zscore-stats`$factor1[,c(\"mean\", \"sd\")],\n",
        "                     qb3$`zscore-stats`$factor2[,c(\"mean\", \"sd\")])\n",
        "\n",
        "# \n",
        "# write.csv(qmb_stat, \n",
        "#           file = paste(\"outputs/qbfscores_\",nf,\"f.csv\", sep=\"\"))\n",
        "# \n",
        "# write.csv(qmb_part, \n",
        "#           file = paste(\"outputs/qbfpartic_\",nf,\"f.csv\", sep=\"\"))\n",
        "# \n",
        "# write.csv(qb3[[\"zscore-stats\"]][[\"factor1\"]], \n",
        "#           file = paste(\"output_20191017_bootstrap/qbfscores_f1\",nf,\"f.txt\", sep=\"\"))"
      ],
      "execution_count": null,
      "outputs": []
    }
  ]
}