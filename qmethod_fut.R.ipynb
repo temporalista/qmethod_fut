{
  "nbformat": 4,
  "nbformat_minor": 0,
  "metadata": {
    "colab": {
      "name": "Qmethod_redu_fut.ipynb",
      "private_outputs": true,
      "provenance": [],
      "collapsed_sections": [],
      "authorship_tag": "ABX9TyNNkJpl3r87mxwSJqFRn7aV",
      "include_colab_link": true
    },
    "kernelspec": {
      "name": "ir",
      "display_name": "R"
    },
    "language_info": {
      "name": "R"
    }
  },
  "cells": [
    {
      "cell_type": "markdown",
      "metadata": {
        "id": "view-in-github",
        "colab_type": "text"
      },
      "source": [
        "<a href=\"https://colab.research.google.com/github/temporalista/qmethod_fut/blob/main/qmethod_fut.R.ipynb\" target=\"_parent\"><img src=\"https://colab.research.google.com/assets/colab-badge.svg\" alt=\"Open In Colab\"/></a>"
      ]
    },
    {
      "cell_type": "markdown",
      "metadata": {
        "id": "PfqMWtWPEUMm"
      },
      "source": [
        "## Scratchpad\n"
      ]
    },
    {
      "cell_type": "code",
      "metadata": {
        "id": "h4qLMht2EHb8"
      },
      "source": [
        "install.packages(\"tigerstats\")\n"
      ],
      "execution_count": null,
      "outputs": []
    },
    {
      "cell_type": "code",
      "metadata": {
        "id": "jA1GylwLHMi4"
      },
      "source": [
        "library(tigerstats)"
      ],
      "execution_count": null,
      "outputs": []
    },
    {
      "cell_type": "code",
      "metadata": {
        "id": "_Ci35ieEHfXA"
      },
      "source": [
        "#@Distribución normal\n",
        "\n",
        "pnormGC(bound = c(-3,3), region = \"between\", graph = T)"
      ],
      "execution_count": null,
      "outputs": []
    },
    {
      "cell_type": "code",
      "metadata": {
        "id": "5BA-Yb-XIKjQ"
      },
      "source": [
        "pnormGC(bound=c(2), #límite de +2\n",
        "        region=\"above\", #cambiamos por \"above\", es decir el área sobre el límite\n",
        "        mean=0, \n",
        "        sd=1, \n",
        "        graph=TRUE)"
      ],
      "execution_count": null,
      "outputs": []
    }
  ]
}
