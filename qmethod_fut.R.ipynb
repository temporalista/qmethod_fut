{
  "nbformat": 4,
  "nbformat_minor": 0,
  "metadata": {
    "colab": {
      "name": "Qmethod_redu_fut.ipynb",
      "private_outputs": true,
      "provenance": [],
      "collapsed_sections": [],
      "authorship_tag": "ABX9TyOk5o+ydoRSSX8K8blLqWpZ",
      "include_colab_link": true
    },
    "kernelspec": {
      "name": "ir",
      "display_name": "R"
    },
    "language_info": {
      "name": "R"
    }
  },
  "cells": [
    {
      "cell_type": "markdown",
      "metadata": {
        "id": "view-in-github",
        "colab_type": "text"
      },
      "source": [
        "<a href=\"https://colab.research.google.com/github/temporalista/qmethod_fut/blob/main/qmethod_fut.R.ipynb\" target=\"_parent\"><img src=\"https://colab.research.google.com/assets/colab-badge.svg\" alt=\"Open In Colab\"/></a>"
      ]
    },
    {
      "cell_type": "markdown",
      "metadata": {
        "id": "PfqMWtWPEUMm"
      },
      "source": [
        "# Método Q: Forma Urbana y Transporte\n",
        "\n",
        "Análisis de percepciones de la relación entre forma urbana y transporte utilizando el Método Q. Parte del proyecto REDU-FUT.\n",
        "\n",
        "\n",
        "Grupo de Investigación LlactaLAB - Ciudades Sustentables. Universidad de Cuenca. http:://llactalab.ucuenca.edu.ec\n",
        "\n",
        "Cómo citar:\n",
        "\n",
        "> Orellana, D., Hermida C., Hermida, M.A. (2020). ¿Cerca o lejos? Discursos y subjetividad en las relaciones entre el lugar de residencia y la movilidad. Revista EURE (En Prensa)\n",
        "\n",
        "\n",
        "\n",
        "\n"
      ]
    },
    {
      "cell_type": "code",
      "metadata": {
        "id": "5BA-Yb-XIKjQ"
      },
      "source": [
        "github_link <- \"https://github.com/temporalista/qmethod_fut/raw/main/inputs/redu_fut_metodoq_public.xlsx\"\n",
        "library(httr)\n",
        "temp_file <- tempfile(fileext = \".xlsx\")\n",
        "req <- GET(github_link, \n",
        "          # authenticate using GITHUB_PAT\n",
        "          # authenticate(Sys.getenv(\"GITHUB_PAT\"), \"\"),\n",
        "          # write result to disk\n",
        "           write_disk(path = temp_file))\n",
        "\n",
        "qstatements <- readxl::read_excel(temp_file,sheet = \"1 Qset\")\n",
        "qparticip <- readxl::read_excel(temp_file, sheet = \"2 Qparticipantes\")\n",
        "qsort <- readxl::read_excel(temp_file, sheet = \"3 Qsort\")\n",
        "\n"
      ],
      "execution_count": null,
      "outputs": []
    }
  ]
}